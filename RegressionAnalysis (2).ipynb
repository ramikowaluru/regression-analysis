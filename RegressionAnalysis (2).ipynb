{
 "cells": [
  {
   "cell_type": "code",
   "execution_count": 1,
   "metadata": {
    "collapsed": false
   },
   "outputs": [],
   "source": [
    "import pandas as pd\n",
    "import numpy as np\n",
    "import matplotlib as plt\n",
    "\n"
   ]
  },
  {
   "cell_type": "code",
   "execution_count": 3,
   "metadata": {
    "collapsed": false
   },
   "outputs": [
    {
     "data": {
      "text/html": [
       "<div>\n",
       "<table border=\"1\" class=\"dataframe\">\n",
       "  <thead>\n",
       "    <tr style=\"text-align: right;\">\n",
       "      <th></th>\n",
       "      <th>COMP</th>\n",
       "      <th>AGE</th>\n",
       "      <th>EDUCATN</th>\n",
       "      <th>EDUCATN_0</th>\n",
       "      <th>EDUCATN_1</th>\n",
       "      <th>EDUCATN_2</th>\n",
       "      <th>BACKGRD</th>\n",
       "      <th>BACKGRD_0</th>\n",
       "      <th>BACKGRD_1</th>\n",
       "      <th>BACKGRD_2</th>\n",
       "      <th>...</th>\n",
       "      <th>BACKGRD_9</th>\n",
       "      <th>BACKGRD_10</th>\n",
       "      <th>TENURE</th>\n",
       "      <th>EXPER</th>\n",
       "      <th>SALES</th>\n",
       "      <th>VAL</th>\n",
       "      <th>PCNTOWN</th>\n",
       "      <th>PROF</th>\n",
       "      <th>COMPANY</th>\n",
       "      <th>BIRTH</th>\n",
       "    </tr>\n",
       "  </thead>\n",
       "  <tbody>\n",
       "    <tr>\n",
       "      <th>0</th>\n",
       "      <td>1948</td>\n",
       "      <td>55</td>\n",
       "      <td>1</td>\n",
       "      <td>0</td>\n",
       "      <td>1</td>\n",
       "      <td>0</td>\n",
       "      <td>1</td>\n",
       "      <td>0</td>\n",
       "      <td>1</td>\n",
       "      <td>0</td>\n",
       "      <td>...</td>\n",
       "      <td>0</td>\n",
       "      <td>0</td>\n",
       "      <td>23</td>\n",
       "      <td>23.0</td>\n",
       "      <td>1227</td>\n",
       "      <td>7.6</td>\n",
       "      <td>0.55</td>\n",
       "      <td>145</td>\n",
       "      <td>AdvM</td>\n",
       "      <td>chi</td>\n",
       "    </tr>\n",
       "    <tr>\n",
       "      <th>1</th>\n",
       "      <td>809</td>\n",
       "      <td>59</td>\n",
       "      <td>1</td>\n",
       "      <td>0</td>\n",
       "      <td>1</td>\n",
       "      <td>0</td>\n",
       "      <td>2</td>\n",
       "      <td>0</td>\n",
       "      <td>0</td>\n",
       "      <td>1</td>\n",
       "      <td>...</td>\n",
       "      <td>0</td>\n",
       "      <td>0</td>\n",
       "      <td>38</td>\n",
       "      <td>0.5</td>\n",
       "      <td>19196</td>\n",
       "      <td>0.4</td>\n",
       "      <td>0.01</td>\n",
       "      <td>505</td>\n",
       "      <td>aetna</td>\n",
       "      <td>chi</td>\n",
       "    </tr>\n",
       "    <tr>\n",
       "      <th>2</th>\n",
       "      <td>721</td>\n",
       "      <td>53</td>\n",
       "      <td>2</td>\n",
       "      <td>0</td>\n",
       "      <td>0</td>\n",
       "      <td>1</td>\n",
       "      <td>1</td>\n",
       "      <td>0</td>\n",
       "      <td>1</td>\n",
       "      <td>0</td>\n",
       "      <td>...</td>\n",
       "      <td>0</td>\n",
       "      <td>0</td>\n",
       "      <td>26</td>\n",
       "      <td>0.5</td>\n",
       "      <td>839</td>\n",
       "      <td>1.5</td>\n",
       "      <td>0.10</td>\n",
       "      <td>-60</td>\n",
       "      <td>aller</td>\n",
       "      <td>sanf</td>\n",
       "    </tr>\n",
       "    <tr>\n",
       "      <th>3</th>\n",
       "      <td>2027</td>\n",
       "      <td>62</td>\n",
       "      <td>2</td>\n",
       "      <td>0</td>\n",
       "      <td>0</td>\n",
       "      <td>1</td>\n",
       "      <td>2</td>\n",
       "      <td>0</td>\n",
       "      <td>0</td>\n",
       "      <td>1</td>\n",
       "      <td>...</td>\n",
       "      <td>0</td>\n",
       "      <td>0</td>\n",
       "      <td>25</td>\n",
       "      <td>5.0</td>\n",
       "      <td>8379</td>\n",
       "      <td>3.4</td>\n",
       "      <td>0.04</td>\n",
       "      <td>806</td>\n",
       "      <td>amer</td>\n",
       "      <td>vertx</td>\n",
       "    </tr>\n",
       "    <tr>\n",
       "      <th>4</th>\n",
       "      <td>2094</td>\n",
       "      <td>63</td>\n",
       "      <td>1</td>\n",
       "      <td>0</td>\n",
       "      <td>1</td>\n",
       "      <td>0</td>\n",
       "      <td>3</td>\n",
       "      <td>0</td>\n",
       "      <td>0</td>\n",
       "      <td>0</td>\n",
       "      <td>...</td>\n",
       "      <td>0</td>\n",
       "      <td>0</td>\n",
       "      <td>41</td>\n",
       "      <td>8.0</td>\n",
       "      <td>10818</td>\n",
       "      <td>5.9</td>\n",
       "      <td>0.04</td>\n",
       "      <td>1166</td>\n",
       "      <td>ameri</td>\n",
       "      <td>bigrun</td>\n",
       "    </tr>\n",
       "    <tr>\n",
       "      <th>5</th>\n",
       "      <td>570</td>\n",
       "      <td>60</td>\n",
       "      <td>1</td>\n",
       "      <td>0</td>\n",
       "      <td>1</td>\n",
       "      <td>0</td>\n",
       "      <td>4</td>\n",
       "      <td>0</td>\n",
       "      <td>0</td>\n",
       "      <td>0</td>\n",
       "      <td>...</td>\n",
       "      <td>0</td>\n",
       "      <td>0</td>\n",
       "      <td>3</td>\n",
       "      <td>3.0</td>\n",
       "      <td>804</td>\n",
       "      <td>0.2</td>\n",
       "      <td>0.21</td>\n",
       "      <td>49</td>\n",
       "      <td>anchor</td>\n",
       "      <td>philie</td>\n",
       "    </tr>\n",
       "    <tr>\n",
       "      <th>6</th>\n",
       "      <td>1833</td>\n",
       "      <td>63</td>\n",
       "      <td>2</td>\n",
       "      <td>0</td>\n",
       "      <td>0</td>\n",
       "      <td>1</td>\n",
       "      <td>3</td>\n",
       "      <td>0</td>\n",
       "      <td>0</td>\n",
       "      <td>0</td>\n",
       "      <td>...</td>\n",
       "      <td>0</td>\n",
       "      <td>0</td>\n",
       "      <td>36</td>\n",
       "      <td>7.0</td>\n",
       "      <td>17037</td>\n",
       "      <td>6.3</td>\n",
       "      <td>0.04</td>\n",
       "      <td>709</td>\n",
       "      <td>atlan</td>\n",
       "      <td>castor</td>\n",
       "    </tr>\n",
       "    <tr>\n",
       "      <th>7</th>\n",
       "      <td>1126</td>\n",
       "      <td>64</td>\n",
       "      <td>1</td>\n",
       "      <td>0</td>\n",
       "      <td>1</td>\n",
       "      <td>0</td>\n",
       "      <td>3</td>\n",
       "      <td>0</td>\n",
       "      <td>0</td>\n",
       "      <td>0</td>\n",
       "      <td>...</td>\n",
       "      <td>0</td>\n",
       "      <td>0</td>\n",
       "      <td>28</td>\n",
       "      <td>14.0</td>\n",
       "      <td>2545</td>\n",
       "      <td>3.4</td>\n",
       "      <td>0.21</td>\n",
       "      <td>63</td>\n",
       "      <td>avery</td>\n",
       "      <td>hartford</td>\n",
       "    </tr>\n",
       "    <tr>\n",
       "      <th>8</th>\n",
       "      <td>1300</td>\n",
       "      <td>50</td>\n",
       "      <td>2</td>\n",
       "      <td>0</td>\n",
       "      <td>0</td>\n",
       "      <td>1</td>\n",
       "      <td>5</td>\n",
       "      <td>0</td>\n",
       "      <td>0</td>\n",
       "      <td>0</td>\n",
       "      <td>...</td>\n",
       "      <td>0</td>\n",
       "      <td>0</td>\n",
       "      <td>2</td>\n",
       "      <td>2.0</td>\n",
       "      <td>1412</td>\n",
       "      <td>8.7</td>\n",
       "      <td>4.26</td>\n",
       "      <td>-35</td>\n",
       "      <td>bally</td>\n",
       "      <td>newton</td>\n",
       "    </tr>\n",
       "    <tr>\n",
       "      <th>9</th>\n",
       "      <td>668</td>\n",
       "      <td>62</td>\n",
       "      <td>2</td>\n",
       "      <td>0</td>\n",
       "      <td>0</td>\n",
       "      <td>1</td>\n",
       "      <td>3</td>\n",
       "      <td>0</td>\n",
       "      <td>0</td>\n",
       "      <td>0</td>\n",
       "      <td>...</td>\n",
       "      <td>0</td>\n",
       "      <td>0</td>\n",
       "      <td>35</td>\n",
       "      <td>20.0</td>\n",
       "      <td>3950</td>\n",
       "      <td>2.3</td>\n",
       "      <td>0.27</td>\n",
       "      <td>-80</td>\n",
       "      <td>boise</td>\n",
       "      <td>belling</td>\n",
       "    </tr>\n",
       "  </tbody>\n",
       "</table>\n",
       "<p>10 rows × 26 columns</p>\n",
       "</div>"
      ],
      "text/plain": [
       "   COMP  AGE  EDUCATN  EDUCATN_0  EDUCATN_1  EDUCATN_2  BACKGRD  BACKGRD_0  \\\n",
       "0  1948   55        1          0          1          0        1          0   \n",
       "1   809   59        1          0          1          0        2          0   \n",
       "2   721   53        2          0          0          1        1          0   \n",
       "3  2027   62        2          0          0          1        2          0   \n",
       "4  2094   63        1          0          1          0        3          0   \n",
       "5   570   60        1          0          1          0        4          0   \n",
       "6  1833   63        2          0          0          1        3          0   \n",
       "7  1126   64        1          0          1          0        3          0   \n",
       "8  1300   50        2          0          0          1        5          0   \n",
       "9   668   62        2          0          0          1        3          0   \n",
       "\n",
       "   BACKGRD_1  BACKGRD_2    ...     BACKGRD_9  BACKGRD_10  TENURE  EXPER  \\\n",
       "0          1          0    ...             0           0      23   23.0   \n",
       "1          0          1    ...             0           0      38    0.5   \n",
       "2          1          0    ...             0           0      26    0.5   \n",
       "3          0          1    ...             0           0      25    5.0   \n",
       "4          0          0    ...             0           0      41    8.0   \n",
       "5          0          0    ...             0           0       3    3.0   \n",
       "6          0          0    ...             0           0      36    7.0   \n",
       "7          0          0    ...             0           0      28   14.0   \n",
       "8          0          0    ...             0           0       2    2.0   \n",
       "9          0          0    ...             0           0      35   20.0   \n",
       "\n",
       "   SALES  VAL  PCNTOWN  PROF  COMPANY     BIRTH  \n",
       "0   1227  7.6     0.55   145     AdvM       chi  \n",
       "1  19196  0.4     0.01   505    aetna       chi  \n",
       "2    839  1.5     0.10   -60    aller      sanf  \n",
       "3   8379  3.4     0.04   806     amer     vertx  \n",
       "4  10818  5.9     0.04  1166    ameri    bigrun  \n",
       "5    804  0.2     0.21    49   anchor    philie  \n",
       "6  17037  6.3     0.04   709    atlan    castor  \n",
       "7   2545  3.4     0.21    63    avery  hartford  \n",
       "8   1412  8.7     4.26   -35    bally    newton  \n",
       "9   3950  2.3     0.27   -80    boise   belling  \n",
       "\n",
       "[10 rows x 26 columns]"
      ]
     },
     "execution_count": 3,
     "metadata": {},
     "output_type": "execute_result"
    }
   ],
   "source": [
    "df = pd.read_csv(\"C:/Users/KUMAR/Downloads/CeoCompensation_1.1.csv\") #Reading the dataset in a dataframe using Pandas\n",
    "df.head(10)\n"
   ]
  },
  {
   "cell_type": "code",
   "execution_count": 4,
   "metadata": {
    "collapsed": false
   },
   "outputs": [
    {
     "data": {
      "text/html": [
       "<div>\n",
       "<table border=\"1\" class=\"dataframe\">\n",
       "  <thead>\n",
       "    <tr style=\"text-align: right;\">\n",
       "      <th></th>\n",
       "      <th>COMP</th>\n",
       "      <th>AGE</th>\n",
       "      <th>TENURE</th>\n",
       "      <th>EXPER</th>\n",
       "      <th>SALES</th>\n",
       "      <th>VAL</th>\n",
       "      <th>PCNTOWN</th>\n",
       "      <th>PROF</th>\n",
       "    </tr>\n",
       "  </thead>\n",
       "  <tbody>\n",
       "    <tr>\n",
       "      <th>count</th>\n",
       "      <td>100.000000</td>\n",
       "      <td>100.000000</td>\n",
       "      <td>100.000000</td>\n",
       "      <td>100.000000</td>\n",
       "      <td>100.000000</td>\n",
       "      <td>100.000000</td>\n",
       "      <td>100.000000</td>\n",
       "      <td>100.000000</td>\n",
       "    </tr>\n",
       "    <tr>\n",
       "      <th>mean</th>\n",
       "      <td>1121.670000</td>\n",
       "      <td>56.930000</td>\n",
       "      <td>23.790000</td>\n",
       "      <td>8.960000</td>\n",
       "      <td>4083.070000</td>\n",
       "      <td>47.335000</td>\n",
       "      <td>1.774200</td>\n",
       "      <td>137.260000</td>\n",
       "    </tr>\n",
       "    <tr>\n",
       "      <th>std</th>\n",
       "      <td>852.723504</td>\n",
       "      <td>6.177926</td>\n",
       "      <td>12.429433</td>\n",
       "      <td>8.271186</td>\n",
       "      <td>4706.051471</td>\n",
       "      <td>185.657163</td>\n",
       "      <td>4.631966</td>\n",
       "      <td>342.476324</td>\n",
       "    </tr>\n",
       "    <tr>\n",
       "      <th>min</th>\n",
       "      <td>155.000000</td>\n",
       "      <td>37.000000</td>\n",
       "      <td>1.000000</td>\n",
       "      <td>0.500000</td>\n",
       "      <td>228.000000</td>\n",
       "      <td>0.100000</td>\n",
       "      <td>0.010000</td>\n",
       "      <td>-1086.000000</td>\n",
       "    </tr>\n",
       "    <tr>\n",
       "      <th>25%</th>\n",
       "      <td>575.500000</td>\n",
       "      <td>52.750000</td>\n",
       "      <td>13.750000</td>\n",
       "      <td>2.750000</td>\n",
       "      <td>1233.750000</td>\n",
       "      <td>0.875000</td>\n",
       "      <td>0.040000</td>\n",
       "      <td>13.000000</td>\n",
       "    </tr>\n",
       "    <tr>\n",
       "      <th>50%</th>\n",
       "      <td>806.500000</td>\n",
       "      <td>58.000000</td>\n",
       "      <td>27.000000</td>\n",
       "      <td>6.500000</td>\n",
       "      <td>2322.500000</td>\n",
       "      <td>3.600000</td>\n",
       "      <td>0.165000</td>\n",
       "      <td>82.000000</td>\n",
       "    </tr>\n",
       "    <tr>\n",
       "      <th>75%</th>\n",
       "      <td>1457.250000</td>\n",
       "      <td>61.250000</td>\n",
       "      <td>35.000000</td>\n",
       "      <td>12.000000</td>\n",
       "      <td>4392.500000</td>\n",
       "      <td>12.000000</td>\n",
       "      <td>0.830000</td>\n",
       "      <td>225.750000</td>\n",
       "    </tr>\n",
       "    <tr>\n",
       "      <th>max</th>\n",
       "      <td>4657.000000</td>\n",
       "      <td>74.000000</td>\n",
       "      <td>46.000000</td>\n",
       "      <td>35.000000</td>\n",
       "      <td>21351.000000</td>\n",
       "      <td>1689.000000</td>\n",
       "      <td>34.040001</td>\n",
       "      <td>1618.000000</td>\n",
       "    </tr>\n",
       "  </tbody>\n",
       "</table>\n",
       "</div>"
      ],
      "text/plain": [
       "              COMP         AGE      TENURE       EXPER         SALES  \\\n",
       "count   100.000000  100.000000  100.000000  100.000000    100.000000   \n",
       "mean   1121.670000   56.930000   23.790000    8.960000   4083.070000   \n",
       "std     852.723504    6.177926   12.429433    8.271186   4706.051471   \n",
       "min     155.000000   37.000000    1.000000    0.500000    228.000000   \n",
       "25%     575.500000   52.750000   13.750000    2.750000   1233.750000   \n",
       "50%     806.500000   58.000000   27.000000    6.500000   2322.500000   \n",
       "75%    1457.250000   61.250000   35.000000   12.000000   4392.500000   \n",
       "max    4657.000000   74.000000   46.000000   35.000000  21351.000000   \n",
       "\n",
       "               VAL     PCNTOWN         PROF  \n",
       "count   100.000000  100.000000   100.000000  \n",
       "mean     47.335000    1.774200   137.260000  \n",
       "std     185.657163    4.631966   342.476324  \n",
       "min       0.100000    0.010000 -1086.000000  \n",
       "25%       0.875000    0.040000    13.000000  \n",
       "50%       3.600000    0.165000    82.000000  \n",
       "75%      12.000000    0.830000   225.750000  \n",
       "max    1689.000000   34.040001  1618.000000  "
      ]
     },
     "execution_count": 4,
     "metadata": {},
     "output_type": "execute_result"
    }
   ],
   "source": [
    "df.loc[:,['COMP','AGE','TENURE','EXPER','SALES','VAL','PCNTOWN','PROF']].describe()\n"
   ]
  },
  {
   "cell_type": "code",
   "execution_count": 6,
   "metadata": {
    "collapsed": false
   },
   "outputs": [
    {
     "name": "stdout",
     "output_type": "stream",
     "text": [
      "                    Age\n"
     ]
    },
    {
     "data": {
      "image/png": "[encoded data removed]",
      "text/plain": [
       "<matplotlib.figure.Figure at 0xaa0cf60>"
      ]
     },
     "metadata": {},
     "output_type": "display_data"
    }
   ],
   "source": [
    "import pandas as pd\n",
    "%matplotlib inline\n",
    "import random\n",
    "import matplotlib.pyplot as plt\n",
    "import seaborn as sns\n",
    "sns.boxplot([df.AGE])\n",
    "print \" \"*20+'Age'\n"
   ]
  },
  {
   "cell_type": "code",
   "execution_count": 7,
   "metadata": {
    "collapsed": false
   },
   "outputs": [
    {
     "name": "stdout",
     "output_type": "stream",
     "text": [
      "                    Comp\n"
     ]
    },
    {
     "data": {
      "image/png": "[encoded data removed]",
      "text/plain": [
       "<matplotlib.figure.Figure at 0xc50b1d0>"
      ]
     },
     "metadata": {},
     "output_type": "display_data"
    }
   ],
   "source": [
    "sns.boxplot([df.COMP])\n",
    "print \" \"*20+'Comp'"
   ]
  },
  {
   "cell_type": "code",
   "execution_count": 8,
   "metadata": {
    "collapsed": false
   },
   "outputs": [
    {
     "name": "stdout",
     "output_type": "stream",
     "text": [
      "                    Tenure\n"
     ]
    },
    {
     "data": {
      "image/png": "[encoded data removed]",
      "text/plain": [
       "<matplotlib.figure.Figure at 0xc5fa278>"
      ]
     },
     "metadata": {},
     "output_type": "display_data"
    }
   ],
   "source": [
    "sns.boxplot([df.TENURE])\n",
    "print \" \"*20+'Tenure'"
   ]
  },
  {
   "cell_type": "code",
   "execution_count": 9,
   "metadata": {
    "collapsed": false
   },
   "outputs": [
    {
     "name": "stdout",
     "output_type": "stream",
     "text": [
      "                    Experience\n"
     ]
    },
    {
     "data": {
      "image/png": "[encoded data removed]",
      "text/plain": [
       "<matplotlib.figure.Figure at 0xc7cfc50>"
      ]
     },
     "metadata": {},
     "output_type": "display_data"
    }
   ],
   "source": [
    "sns.boxplot([df.EXPER])\n",
    "print \" \"*20+'Experience'"
   ]
  },
  {
   "cell_type": "code",
   "execution_count": 10,
   "metadata": {
    "collapsed": false
   },
   "outputs": [
    {
     "name": "stdout",
     "output_type": "stream",
     "text": [
      "                    Sales\n"
     ]
    },
    {
     "data": {
      "image/png": "[encoded data removed]",
      "text/plain": [
       "<matplotlib.figure.Figure at 0xca0b550>"
      ]
     },
     "metadata": {},
     "output_type": "display_data"
    }
   ],
   "source": [
    "sns.boxplot([df.SALES])\n",
    "print \" \"*20+'Sales'"
   ]
  },
  {
   "cell_type": "code",
   "execution_count": 11,
   "metadata": {
    "collapsed": false
   },
   "outputs": [
    {
     "name": "stdout",
     "output_type": "stream",
     "text": [
      "                    Value\n"
     ]
    },
    {
     "data": {
      "image/png": "[encoded data removed]",
      "text/plain": [
       "<matplotlib.figure.Figure at 0xcaaef98>"
      ]
     },
     "metadata": {},
     "output_type": "display_data"
    }
   ],
   "source": [
    "sns.boxplot([df.VAL])\n",
    "print \" \"*20+'Value'"
   ]
  },
  {
   "cell_type": "code",
   "execution_count": 12,
   "metadata": {
    "collapsed": false
   },
   "outputs": [
    {
     "name": "stdout",
     "output_type": "stream",
     "text": [
      "                    PCN Town\n"
     ]
    },
    {
     "data": {
      "image/png": "[encoded data removed]",
      "text/plain": [
       "<matplotlib.figure.Figure at 0xc7d8a58>"
      ]
     },
     "metadata": {},
     "output_type": "display_data"
    }
   ],
   "source": [
    "sns.boxplot([df.PCNTOWN])\n",
    "print \" \"*20+'PCN Town'"
   ]
  },
  {
   "cell_type": "code",
   "execution_count": 13,
   "metadata": {
    "collapsed": false
   },
   "outputs": [
    {
     "name": "stdout",
     "output_type": "stream",
     "text": [
      "                    Prof\n"
     ]
    },
    {
     "data": {
      "image/png": "[encoded data removed]",
      "text/plain": [
       "<matplotlib.figure.Figure at 0xc2fe518>"
      ]
     },
     "metadata": {},
     "output_type": "display_data"
    }
   ],
   "source": [
    "sns.boxplot([df.PROF])\n",
    "print \" \"*20+'Prof'"
   ]
  },
  {
   "cell_type": "code",
   "execution_count": 14,
   "metadata": {
    "collapsed": false
   },
   "outputs": [
    {
     "name": "stdout",
     "output_type": "stream",
     "text": [
      "                         Comp\n"
     ]
    },
    {
     "data": {
      "image/png": "[encoded data removed]",
      "text/plain": [
       "<matplotlib.figure.Figure at 0xc61d748>"
      ]
     },
     "metadata": {},
     "output_type": "display_data"
    }
   ],
   "source": [
    "plt.hist(df.COMP, alpha=.9)\n",
    "sns.rugplot(df.COMP)\n",
    "print \" \"*25+\"Comp\""
   ]
  },
  {
   "cell_type": "code",
   "execution_count": 15,
   "metadata": {
    "collapsed": false
   },
   "outputs": [
    {
     "name": "stdout",
     "output_type": "stream",
     "text": [
      "                         Age\n"
     ]
    },
    {
     "data": {
      "image/png": "[encoded data removed]",
      "text/plain": [
       "<matplotlib.figure.Figure at 0xcedd3c8>"
      ]
     },
     "metadata": {},
     "output_type": "display_data"
    }
   ],
   "source": [
    "plt.hist(df.AGE, alpha=.9)\n",
    "sns.rugplot(df.AGE)\n",
    "print \" \"*25+\"Age\""
   ]
  },
  {
   "cell_type": "code",
   "execution_count": 13,
   "metadata": {
    "collapsed": false
   },
   "outputs": [
    {
     "name": "stdout",
     "output_type": "stream",
     "text": [
      "                         Tenure\n"
     ]
    },
    {
     "data": {
      "image/png": "[encoded data removed]",
      "text/plain": [
       "<matplotlib.figure.Figure at 0xcacc908>"
      ]
     },
     "metadata": {},
     "output_type": "display_data"
    }
   ],
   "source": [
    "plt.hist(df.TENURE, alpha=.9)\n",
    "sns.rugplot(df.TENURE)\n",
    "print \" \"*25+\"Tenure\""
   ]
  },
  {
   "cell_type": "code",
   "execution_count": 14,
   "metadata": {
    "collapsed": false
   },
   "outputs": [
    {
     "name": "stdout",
     "output_type": "stream",
     "text": [
      "                         Experience\n"
     ]
    },
    {
     "data": {
      "image/png": "[encoded data removed]",
      "text/plain": [
       "<matplotlib.figure.Figure at 0xda1c358>"
      ]
     },
     "metadata": {},
     "output_type": "display_data"
    }
   ],
   "source": [
    "plt.hist(df.EXPER, alpha=.9)\n",
    "sns.rugplot(df.EXPER)\n",
    "print \" \"*25+\"Experience\""
   ]
  },
  {
   "cell_type": "code",
   "execution_count": 15,
   "metadata": {
    "collapsed": false
   },
   "outputs": [
    {
     "name": "stdout",
     "output_type": "stream",
     "text": [
      "                         Sales\n"
     ]
    },
    {
     "data": {
      "image/png": "[encoded data removed]",
      "text/plain": [
       "<matplotlib.figure.Figure at 0xcb6b748>"
      ]
     },
     "metadata": {},
     "output_type": "display_data"
    }
   ],
   "source": [
    "plt.hist(df.SALES, alpha=.9)\n",
    "sns.rugplot(df.SALES)\n",
    "print \" \"*25+\"Sales\""
   ]
  },
  {
   "cell_type": "code",
   "execution_count": 16,
   "metadata": {
    "collapsed": false
   },
   "outputs": [
    {
     "name": "stdout",
     "output_type": "stream",
     "text": [
      "                         Val\n"
     ]
    },
    {
     "data": {
      "image/png": "[encoded data removed]",
      "text/plain": [
       "<matplotlib.figure.Figure at 0xc19a080>"
      ]
     },
     "metadata": {},
     "output_type": "display_data"
    }
   ],
   "source": [
    "plt.hist(df.VAL, alpha=.9)\n",
    "sns.rugplot(df.VAL)\n",
    "print \" \"*25+\"Val\""
   ]
  },
  {
   "cell_type": "code",
   "execution_count": 17,
   "metadata": {
    "collapsed": false
   },
   "outputs": [
    {
     "name": "stdout",
     "output_type": "stream",
     "text": [
      "                         PcnTown\n"
     ]
    },
    {
     "data": {
      "image/png": "[encoded data removed]",
      "text/plain": [
       "<matplotlib.figure.Figure at 0xc997588>"
      ]
     },
     "metadata": {},
     "output_type": "display_data"
    }
   ],
   "source": [
    "plt.hist(df.PCNTOWN, alpha=.9)\n",
    "sns.rugplot(df.PCNTOWN)\n",
    "print \" \"*25+\"PcnTown\""
   ]
  },
  {
   "cell_type": "code",
   "execution_count": 18,
   "metadata": {
    "collapsed": false
   },
   "outputs": [
    {
     "name": "stdout",
     "output_type": "stream",
     "text": [
      "                         Prof\n"
     ]
    },
    {
     "data": {
      "image/png": "[encoded data removed]",
      "text/plain": [
       "<matplotlib.figure.Figure at 0xc8438d0>"
      ]
     },
     "metadata": {},
     "output_type": "display_data"
    }
   ],
   "source": [
    "plt.hist(df.PROF, alpha=.9)\n",
    "sns.rugplot(df.PROF)\n",
    "print \" \"*25+\"Prof\""
   ]
  },
  {
   "cell_type": "code",
   "execution_count": 25,
   "metadata": {
    "collapsed": false
   },
   "outputs": [
    {
     "name": "stdout",
     "output_type": "stream",
     "text": [
      "COMP    : NormaltestResult(statistic=58.784189149454093, pvalue=1.7186027983961848e-13)\n",
      "AGE     : NormaltestResult(statistic=3.8190574530683397, pvalue=0.14815018939928748)\n",
      "TENURE  : NormaltestResult(statistic=23.887054902031256, pvalue=6.5011761517032365e-06)\n",
      "EXPER   : NormaltestResult(statistic=25.161173215893456, pvalue=3.4381170420218085e-06)\n",
      "SALES   : NormaltestResult(statistic=47.523556718884784, pvalue=4.7906095761959774e-11)\n",
      "VAL     : NormaltestResult(statistic=182.11826504283025, pvalue=2.8413270050615252e-40)\n",
      "PCNTOWN : NormaltestResult(statistic=127.0693591458065, pvalue=2.5541079683405453e-28)\n",
      "PROF    : NormaltestResult(statistic=34.622316851212169, pvalue=3.0329092832343135e-08)\n"
     ]
    }
   ],
   "source": [
    "import scipy.stats as stats\n",
    "print \"COMP    :\",stats.normaltest(df.COMP)\n",
    "print \"AGE     :\",stats.normaltest(df.AGE)\n",
    "print \"TENURE  :\",stats.normaltest(df.TENURE)\n",
    "print \"EXPER   :\",stats.normaltest(df.EXPER)\n",
    "print \"SALES   :\",stats.normaltest(df.SALES)\n",
    "print \"VAL     :\",stats.normaltest(df.VAL)\n",
    "print \"PCNTOWN :\",stats.normaltest(df.PCNTOWN)\n",
    "print \"PROF    :\",stats.normaltest(df.PROF)\n",
    "#'COMP','AGE','TENURE','EXPER','SALES','VAL','PCNTOWN','PROF'\n"
   ]
  },
  {
   "cell_type": "code",
   "execution_count": null,
   "metadata": {
    "collapsed": true
   },
   "outputs": [],
   "source": []
  }
 ],
 "metadata": {
  "kernelspec": {
   "display_name": "Python 2",
   "language": "python",
   "name": "python2"
  },
  "language_info": {
   "codemirror_mode": {
    "name": "ipython",
    "version": 2
   },
   "file_extension": ".py",
   "mimetype": "text/x-python",
   "name": "python",
   "nbconvert_exporter": "python",
   "pygments_lexer": "ipython2",
   "version": "2.7.12"
  }
 },
 "nbformat": 4,
 "nbformat_minor": 0
}
